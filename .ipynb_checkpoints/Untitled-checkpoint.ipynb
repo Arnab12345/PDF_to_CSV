{
 "cells": [
  {
   "cell_type": "code",
   "execution_count": 4,
   "metadata": {},
   "outputs": [],
   "source": [
    "import requests"
   ]
  },
  {
   "cell_type": "code",
   "execution_count": 5,
   "metadata": {},
   "outputs": [],
   "source": [
    "i = 110538\n",
    "j=1\n",
    "for i in range(110538,110555):\n",
    "    r = requests.post(url = 'https://secc.gov.in/downloadLgdwisePdfFile', data ={'stateCode': 19,'districtCode': 319,'blockCode': 3003,'gpCode': i})\n",
    "\n",
    "    with open(str(j)+'.pdf','wb') as f:\n",
    "        f.write(r.content)\n",
    "    j +=1    "
   ]
  },
  {
   "cell_type": "code",
   "execution_count": 8,
   "metadata": {},
   "outputs": [],
   "source": [
    "from wand.image import Image as wi           # using wand to convert pdf to jpeg\n",
    "pdf=wi(filename='1.pdf',resolution=300)   \n",
    "pdfImage=pdf.convert(\"jpeg\")\n",
    "i=1\n",
    "j=1\n",
    "for img in pdfImage.sequence:\n",
    "    page=wi(image=img)\n",
    "    page.save(filename=str(j)+str(i)+\".jpeg\")\n",
    "    i +=1"
   ]
  },
  {
   "cell_type": "code",
   "execution_count": 17,
   "metadata": {},
   "outputs": [],
   "source": [
    "from PIL import Image"
   ]
  },
  {
   "cell_type": "code",
   "execution_count": 18,
   "metadata": {},
   "outputs": [],
   "source": [
    "import pytesseract          #importing tesseract"
   ]
  },
  {
   "cell_type": "code",
   "execution_count": 20,
   "metadata": {},
   "outputs": [],
   "source": [
    "pytesseract.pytesseract.tesseract_cmd = r\"C:\\Program Files\\Tesseract-OCR\\tesseract.exe\" # setting path of tesseract"
   ]
  },
  {
   "cell_type": "code",
   "execution_count": 21,
   "metadata": {},
   "outputs": [
    {
     "name": "stdout",
     "output_type": "stream",
     "text": [
      "Ministry of Rural Development\n",
      "\n",
      "Socio Economic and Caste Census\n",
      "\n",
      "STATE: WEST BENGAL > DISTRICT: Murshidabad > DEVELOPMENT BLOCK:\n",
      "\n",
      "Xf\n",
      "\n",
      "BERHAMPORE\n",
      "GRAM PANCHAYAT: BHAKURI-I [ 110538 ]\n",
      "TaN Baa A\n",
      "SECC ABSTRACT\n",
      "Village Sex Ratio Total Excluded Included Deprived Zero Deprived Household\n",
      "Household Household household Household Household Owing Land\n",
      "Chaltia (CT) 955 6121 2970 37 2620 494 650\n",
      "Pakuria 952 497 275 1 171 50 24\n",
      "Gar Baharampur 1016 327 274 0 a 12 1\n",
      "(P\n",
      "Gora Bazar (CT) 960 1300 1125 2 139 34 6\n",
      "Total 958 8245 4644 40 2971 590 681\n",
      "EXCLUDED HOUSEHOLDS\n",
      "Village Households with Households with Households owning Household owning Households Households\n",
      "any member three or more 2.5 acresormore 5acresormore owning 7.5 acres having Kisan\n",
      "earning more rooms with pucca _ irrigated land with at land irrigated for or more land with credit card with\n",
      "than Rs. 10,000 walls and pucca least one irrigation two or more crop at least one the credit limit\n",
      "p.m roof equipment seasons irrigation of Rs.50,000\n",
      "equipment and above\n",
      "Chaltia (CT) 1801 1773 15 41 6 15\n",
      "Pakuria 134 179 4 1 1 3\n",
      "Gar Baharampur 167 260 0 1 0 1\n",
      "(P)\n",
      "Gora Bazar (CT) 845 813 0 0 0 0\n",
      "Total 2947 3025 19 43 7 19\n",
      "INCLUDED HOUSEHOLDS\n",
      "Village HH without shelter Destitute/ living on alms Manual scavengers Primitive tribal Legally released\n",
      "groups bonded labourers\n",
      "Chaltia (CT) 0 31 1 4 1\n",
      "Pakuria 0 1 0 0 0\n",
      "Gar Baharampur 0 0 0 0 0\n",
      "(P)\n",
      "Gora Bazar (CT) 0 2 0 0 0\n",
      "Total 0 34 1 4 1\n",
      "\n",
      "MGNREGA\n",
      "\n",
      " \n",
      "\n",
      "| ne Fe |\n",
      "\\ sie peep lim\n",
      "‘he dat Ss bie”\n",
      "\n",
      "PMAYG\n",
      "\n",
      "@® ©\n",
      "\n",
      "NRLM PMGSY NSAP\n",
      "\n",
      "SAGY\n"
     ]
    }
   ],
   "source": [
    "im=Image.open(\"11.jpeg\")                                 # extracting text from image using pytesseract\n",
    "text=pytesseract.image_to_string(im,lang=\"eng\")\n",
    "print(text)"
   ]
  },
  {
   "cell_type": "markdown",
   "metadata": {},
   "source": [
    "# opencv along with pytesseract"
   ]
  },
  {
   "cell_type": "code",
   "execution_count": 22,
   "metadata": {},
   "outputs": [],
   "source": [
    "import cv2"
   ]
  },
  {
   "cell_type": "code",
   "execution_count": 26,
   "metadata": {},
   "outputs": [
    {
     "name": "stdout",
     "output_type": "stream",
     "text": [
      "Number of contours = 2590\n",
      "[[[0 0]]\n",
      "\n",
      " [[0 1]]\n",
      "\n",
      " [[0 2]]\n",
      "\n",
      " ...\n",
      "\n",
      " [[3 0]]\n",
      "\n",
      " [[2 0]]\n",
      "\n",
      " [[1 0]]]\n"
     ]
    }
   ],
   "source": [
    "import numpy as np\n",
    "import cv2\n",
    "\n",
    "img = cv2.imread('11.jpeg')\n",
    "imgray = cv2.cvtColor(img, cv2.COLOR_BGR2GRAY)\n",
    "ret, thresh = cv2.threshold(imgray, 127, 255, 0)\n",
    "contours, hierarchy = cv2.findContours(thresh, cv2.RETR_TREE, cv2.CHAIN_APPROX_NONE)\n",
    "print(\"Number of contours = \" + str(len(contours)))\n",
    "print(contours[0])\n",
    "\n",
    "cv2.drawContours(img, contours, -1, (0, 255, 0), 3)\n",
    "cv2.drawContours(imgray, contours, -1, (0, 255, 0), 3)\n",
    "\n",
    "cv2.imshow('Image', img)\n",
    "cv2.imshow('Image GRAY', imgray)\n",
    "cv2.waitKey(0)\n",
    "cv2.destroyAllWindows()"
   ]
  },
  {
   "cell_type": "code",
   "execution_count": 28,
   "metadata": {},
   "outputs": [],
   "source": [
    "import tkinter"
   ]
  },
  {
   "cell_type": "code",
   "execution_count": 31,
   "metadata": {},
   "outputs": [
    {
     "ename": "ImportError",
     "evalue": "cannot import name 'TableList'",
     "output_type": "error",
     "traceback": [
      "\u001b[1;31m---------------------------------------------------------------------------\u001b[0m",
      "\u001b[1;31mImportError\u001b[0m                               Traceback (most recent call last)",
      "\u001b[1;32m<ipython-input-31-679d8f55abf0>\u001b[0m in \u001b[0;36m<module>\u001b[1;34m()\u001b[0m\n\u001b[1;32m----> 1\u001b[1;33m \u001b[1;32mimport\u001b[0m \u001b[0mcamelot\u001b[0m\u001b[1;33m\u001b[0m\u001b[0m\n\u001b[0m",
      "\u001b[1;32mD:\\ARNAB\\Anaconda_installed\\lib\\site-packages\\camelot\\__init__.py\u001b[0m in \u001b[0;36m<module>\u001b[1;34m()\u001b[0m\n\u001b[0;32m      4\u001b[0m \u001b[1;33m\u001b[0m\u001b[0m\n\u001b[0;32m      5\u001b[0m \u001b[1;32mfrom\u001b[0m \u001b[1;33m.\u001b[0m\u001b[0m__version__\u001b[0m \u001b[1;32mimport\u001b[0m \u001b[0m__version__\u001b[0m\u001b[1;33m\u001b[0m\u001b[0m\n\u001b[1;32m----> 6\u001b[1;33m \u001b[1;32mfrom\u001b[0m \u001b[1;33m.\u001b[0m\u001b[0mio\u001b[0m \u001b[1;32mimport\u001b[0m \u001b[0mread_pdf\u001b[0m\u001b[1;33m\u001b[0m\u001b[0m\n\u001b[0m\u001b[0;32m      7\u001b[0m \u001b[1;32mfrom\u001b[0m \u001b[1;33m.\u001b[0m\u001b[0mplotting\u001b[0m \u001b[1;32mimport\u001b[0m \u001b[0mPlotMethods\u001b[0m\u001b[1;33m\u001b[0m\u001b[0m\n\u001b[0;32m      8\u001b[0m \u001b[1;33m\u001b[0m\u001b[0m\n",
      "\u001b[1;32mD:\\ARNAB\\Anaconda_installed\\lib\\site-packages\\camelot\\io.py\u001b[0m in \u001b[0;36m<module>\u001b[1;34m()\u001b[0m\n\u001b[0;32m      3\u001b[0m \u001b[1;32mimport\u001b[0m \u001b[0mwarnings\u001b[0m\u001b[1;33m\u001b[0m\u001b[0m\n\u001b[0;32m      4\u001b[0m \u001b[1;33m\u001b[0m\u001b[0m\n\u001b[1;32m----> 5\u001b[1;33m \u001b[1;32mfrom\u001b[0m \u001b[1;33m.\u001b[0m\u001b[0mhandlers\u001b[0m \u001b[1;32mimport\u001b[0m \u001b[0mPDFHandler\u001b[0m\u001b[1;33m\u001b[0m\u001b[0m\n\u001b[0m\u001b[0;32m      6\u001b[0m \u001b[1;32mfrom\u001b[0m \u001b[1;33m.\u001b[0m\u001b[0mutils\u001b[0m \u001b[1;32mimport\u001b[0m \u001b[0mvalidate_input\u001b[0m\u001b[1;33m,\u001b[0m \u001b[0mremove_extra\u001b[0m\u001b[1;33m\u001b[0m\u001b[0m\n\u001b[0;32m      7\u001b[0m \u001b[1;33m\u001b[0m\u001b[0m\n",
      "\u001b[1;32mD:\\ARNAB\\Anaconda_installed\\lib\\site-packages\\camelot\\handlers.py\u001b[0m in \u001b[0;36m<module>\u001b[1;34m()\u001b[0m\n\u001b[0;32m      6\u001b[0m \u001b[1;32mfrom\u001b[0m \u001b[0mPyPDF2\u001b[0m \u001b[1;32mimport\u001b[0m \u001b[0mPdfFileReader\u001b[0m\u001b[1;33m,\u001b[0m \u001b[0mPdfFileWriter\u001b[0m\u001b[1;33m\u001b[0m\u001b[0m\n\u001b[0;32m      7\u001b[0m \u001b[1;33m\u001b[0m\u001b[0m\n\u001b[1;32m----> 8\u001b[1;33m \u001b[1;32mfrom\u001b[0m \u001b[1;33m.\u001b[0m\u001b[0mcore\u001b[0m \u001b[1;32mimport\u001b[0m \u001b[0mTableList\u001b[0m\u001b[1;33m\u001b[0m\u001b[0m\n\u001b[0m\u001b[0;32m      9\u001b[0m \u001b[1;32mfrom\u001b[0m \u001b[1;33m.\u001b[0m\u001b[0mparsers\u001b[0m \u001b[1;32mimport\u001b[0m \u001b[0mStream\u001b[0m\u001b[1;33m,\u001b[0m \u001b[0mLattice\u001b[0m\u001b[1;33m\u001b[0m\u001b[0m\n\u001b[0;32m     10\u001b[0m from .utils import (\n",
      "\u001b[1;31mImportError\u001b[0m: cannot import name 'TableList'"
     ]
    }
   ],
   "source": [
    "import camelot"
   ]
  },
  {
   "cell_type": "code",
   "execution_count": null,
   "metadata": {},
   "outputs": [],
   "source": []
  }
 ],
 "metadata": {
  "kernelspec": {
   "display_name": "Python 3",
   "language": "python",
   "name": "python3"
  },
  "language_info": {
   "codemirror_mode": {
    "name": "ipython",
    "version": 3
   },
   "file_extension": ".py",
   "mimetype": "text/x-python",
   "name": "python",
   "nbconvert_exporter": "python",
   "pygments_lexer": "ipython3",
   "version": "3.6.4"
  }
 },
 "nbformat": 4,
 "nbformat_minor": 2
}
